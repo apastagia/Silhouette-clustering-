{
 "cells": [
  {
   "cell_type": "code",
   "execution_count": 1,
   "metadata": {},
   "outputs": [],
   "source": [
    "from sklearn.datasets import make_blobs\n",
    "from sklearn.cluster import KMeans\n",
    "from sklearn.metrics import silhouette_samples, silhouette_score\n",
    "\n",
    "import numpy as np\n",
    "import matplotlib.pyplot as plt\n",
    "import matplotlib.cm as cm"
   ]
  },
  {
   "cell_type": "code",
   "execution_count": 2,
   "metadata": {},
   "outputs": [],
   "source": [
    "##Generating sample data from make_blobs\n",
    "##This particular setting has one distinct cluster and 3 clusters placed close together\n",
    "\n",
    "X,y = make_blobs(n_samples=500,\n",
    "                n_features=2,\n",
    "                centers=4,\n",
    "                cluster_std=1,\n",
    "                center_box=(-10.0,10.0),\n",
    "                shuffle=True,\n",
    "                random_state=1) #For reproducibility\n",
    "\n",
    "range_n_clusters = [2,3,4,5,6]"
   ]
  },
  {
   "cell_type": "code",
   "execution_count": 4,
   "metadata": {},
   "outputs": [
    {
     "data": {
      "image/png": "[encoded data removed]",
      "text/plain": [
       "<Figure size 432x288 with 1 Axes>"
      ]
     },
     "metadata": {
      "needs_background": "light"
     },
     "output_type": "display_data"
    }
   ],
   "source": [
    "wcss = []\n",
    "for i in range(1,11):\n",
    "    kmeans = KMeans(n_clusters=i, init='k-means++', random_state=0)\n",
    "    kmeans.fit(X)\n",
    "    wcss.append(kmeans.inertia_)\n",
    "    \n",
    "plt.plot(range(1,11), wcss)\n",
    "plt.title('The Elbow Method')\n",
    "plt.xlabel('Number of clusters')\n",
    "plt.ylabel('WCSS')\n",
    "plt.show()"
   ]
  },
  {
   "cell_type": "code",
   "execution_count": 5,
   "metadata": {},
   "outputs": [
    {
     "name": "stdout",
     "output_type": "stream",
     "text": [
      "[1 1 2 0 3 0 3 3 3 3 1 1 3 0 3 1 3 1 0 3 2 2 3 0 3 3 0 0 2 3 1 0 3 1 3 1 2\n",
      " 2 1 2 3 2 0 3 3 1 2 3 0 0 0 2 2 3 1 2 2 2 2 3 0 0 2 3 0 3 1 3 2 2 1 2 3 1\n",
      " 3 3 1 3 3 2 0 0 2 0 0 2 2 0 2 2 0 1 2 3 0 1 1 3 1 0 0 1 0 2 0 3 3 0 0 2 3\n",
      " 1 0 2 0 2 0 3 0 3 2 1 1 2 3 2 0 1 1 3 0 2 2 2 2 1 0 3 0 0 3 1 3 0 0 0 3 3\n",
      " 1 1 2 2 0 1 0 2 2 2 2 2 2 2 2 2 0 1 1 1 3 0 1 2 3 1 0 2 2 2 2 1 3 2 0 1 1\n",
      " 2 3 1 1 3 0 0 1 1 3 0 3 1 1 0 1 2 0 3 3 1 3 2 1 3 2 3 2 1 3 3 3 0 2 0 3 1\n",
      " 2 3 2 2 2 0 2 0 1 2 1 2 0 0 2 1 0 1 3 2 1 1 1 1 3 2 1 2 3 0 0 3 3 0 2 3 2\n",
      " 0 3 0 2 2 0 3 1 1 2 2 2 3 0 0 3 0 2 1 0 1 0 1 1 0 1 0 0 3 2 2 2 3 3 2 1 0\n",
      " 1 1 1 3 2 3 1 2 1 1 2 1 1 2 0 1 3 3 0 0 2 1 0 0 3 1 0 0 3 2 0 2 3 1 1 0 2\n",
      " 1 3 0 0 3 3 3 1 3 0 0 2 0 0 0 0 1 1 3 0 2 3 1 0 2 0 3 0 2 3 2 0 3 3 1 0 1\n",
      " 1 1 1 1 1 2 1 0 1 0 0 2 0 3 2 2 1 0 2 0 3 1 2 2 1 2 2 0 0 1 2 3 0 3 3 1 1\n",
      " 3 1 2 2 1 2 1 2 0 1 0 2 3 0 2 3 0 1 3 0 0 2 3 2 3 1 0 1 3 0 1 1 1 2 0 3 1\n",
      " 3 3 2 2 1 3 3 3 3 3 3 1 3 2 1 3 0 3 0 3 2 2 0 0 0 2 3 2 1 2 0 3 1 0 1 0 1\n",
      " 3 0 0 1 2 3 1 2 2 2 1 3 0 2 3 1 1 1 3]\n"
     ]
    }
   ],
   "source": [
    "clusterer = KMeans(n_clusters=4, random_state=10)\n",
    "cluster_labels = clusterer.fit_predict(X)\n",
    "print(cluster_labels)"
   ]
  },
  {
   "cell_type": "code",
   "execution_count": null,
   "metadata": {},
   "outputs": [],
   "source": [
    "for n_clusters in range_n_clusters:\n",
    "    #Create subplot with 1 row and 2 columns\n",
    "    fig, (ax1, ax2) = plt.subplots(1, 2)\n",
    "    fig.set_size_inches(18, 7)\n",
    "    \n",
    "    #1st subplot is silhouette plot\n",
    "    #The silhouette coefficient can range from -1, 1 but in this example all\n",
    "    #lie within [-0.1, 1]\n",
    "    ax1.set_xlim([-0.1,1])\n",
    "    #the (n_clusters+1)*10 is for inserting blank space between silhouette\n",
    "    #plots of individual clusters, to demarcate them clearly\n",
    "    ax1.set_ylim([0, len(X) + (n_clusters + 1) * 10])"
   ]
  }
 ],
 "metadata": {
  "kernelspec": {
   "display_name": "Python 3",
   "language": "python",
   "name": "python3"
  },
  "language_info": {
   "codemirror_mode": {
    "name": "ipython",
    "version": 3
   },
   "file_extension": ".py",
   "mimetype": "text/x-python",
   "name": "python",
   "nbconvert_exporter": "python",
   "pygments_lexer": "ipython3",
   "version": "3.8.3"
  }
 },
 "nbformat": 4,
 "nbformat_minor": 4
}
